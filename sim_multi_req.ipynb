{
 "cells": [
  {
   "cell_type": "code",
   "execution_count": 8,
   "id": "43831270-9e89-49ec-95d1-c62347399d3d",
   "metadata": {},
   "outputs": [],
   "source": [
    "import requests\n",
    "import json\n",
    "import concurrent.futures\n",
    "\n",
    "def post_request(text):\n",
    "    response = requests.post(\"http://localhost:8000/predict\", json={\"text\": text})\n",
    "    return response.json()\n"
   ]
  },
  {
   "cell_type": "code",
   "execution_count": 12,
   "id": "154843e9-c570-41c1-b73a-9634f975bef8",
   "metadata": {},
   "outputs": [
    {
     "name": "stdout",
     "output_type": "stream",
     "text": [
      "{\n",
      "  \"label\": \"POSITIVE\",\n",
      "  \"score\": 0.9998855590820312\n",
      "}\n",
      "{\n",
      "  \"label\": \"POSITIVE\",\n",
      "  \"score\": 0.999713122844696\n",
      "}\n",
      "{\n",
      "  \"label\": \"POSITIVE\",\n",
      "  \"score\": 0.9998682737350464\n",
      "}\n"
     ]
    }
   ],
   "source": [
    "texts = [\"I love this product!\", \"I Love Dogs\", \"I'm Positive\"]\n",
    "\n",
    "with concurrent.futures.ThreadPoolExecutor() as executor:\n",
    "    results = list(executor.map(post_request, texts))\n",
    "\n",
    "for result in results:\n",
    "    print(json.dumps(result, indent=2))\n"
   ]
  },
  {
   "cell_type": "code",
   "execution_count": null,
   "id": "790ee09d-1993-47e2-967f-ac0f31371cfb",
   "metadata": {},
   "outputs": [],
   "source": []
  }
 ],
 "metadata": {
  "kernelspec": {
   "display_name": "Python 3 (ipykernel)",
   "language": "python",
   "name": "python3"
  },
  "language_info": {
   "codemirror_mode": {
    "name": "ipython",
    "version": 3
   },
   "file_extension": ".py",
   "mimetype": "text/x-python",
   "name": "python",
   "nbconvert_exporter": "python",
   "pygments_lexer": "ipython3",
   "version": "3.11.4"
  }
 },
 "nbformat": 4,
 "nbformat_minor": 5
}
